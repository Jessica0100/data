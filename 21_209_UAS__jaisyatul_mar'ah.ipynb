{
  "nbformat": 4,
  "nbformat_minor": 0,
  "metadata": {
    "colab": {
      "provenance": [],
      "authorship_tag": "ABX9TyM6sdYAOAYYAf6t8e+MwGmE",
      "include_colab_link": true
    },
    "kernelspec": {
      "name": "python3",
      "display_name": "Python 3"
    },
    "language_info": {
      "name": "python"
    }
  },
  "cells": [
    {
      "cell_type": "markdown",
      "metadata": {
        "id": "view-in-github",
        "colab_type": "text"
      },
      "source": [
        "<a href=\"https://colab.research.google.com/github/Jessica0100/data/blob/main/21_209_UAS__jaisyatul_mar'ah.ipynb\" target=\"_parent\"><img src=\"https://colab.research.google.com/assets/colab-badge.svg\" alt=\"Open In Colab\"/></a>"
      ]
    },
    {
      "cell_type": "markdown",
      "source": [
        "tugas UAS data jaisyatul mar'ah,"
      ],
      "metadata": {
        "id": "L3FH06wQn8G4"
      }
    },
    {
      "cell_type": "markdown",
      "source": [
        "di sini saya akan menggunakan data Ecoli yang di dapatkan dari UCI ML,\n",
        "\n",
        "tahapan pertama yang akan saya lakukan adalah upload data"
      ],
      "metadata": {
        "id": "SQH2CdJBoC6u"
      }
    },
    {
      "cell_type": "code",
      "source": [
        "from google.colab import files\n",
        "\n",
        "# Upload file ecoli.data\n",
        "uploaded = files.upload()\n"
      ],
      "metadata": {
        "colab": {
          "base_uri": "https://localhost:8080/",
          "height": 73
        },
        "id": "f7Z6XAsVotnZ",
        "outputId": "7dfb8342-3be2-4c6f-c9b1-398c21c81ad0"
      },
      "execution_count": 2,
      "outputs": [
        {
          "output_type": "display_data",
          "data": {
            "text/plain": [
              "<IPython.core.display.HTML object>"
            ],
            "text/html": [
              "\n",
              "     <input type=\"file\" id=\"files-b945b23e-a10d-475f-99a8-6e61a1db3192\" name=\"files[]\" multiple disabled\n",
              "        style=\"border:none\" />\n",
              "     <output id=\"result-b945b23e-a10d-475f-99a8-6e61a1db3192\">\n",
              "      Upload widget is only available when the cell has been executed in the\n",
              "      current browser session. Please rerun this cell to enable.\n",
              "      </output>\n",
              "      <script>// Copyright 2017 Google LLC\n",
              "//\n",
              "// Licensed under the Apache License, Version 2.0 (the \"License\");\n",
              "// you may not use this file except in compliance with the License.\n",
              "// You may obtain a copy of the License at\n",
              "//\n",
              "//      http://www.apache.org/licenses/LICENSE-2.0\n",
              "//\n",
              "// Unless required by applicable law or agreed to in writing, software\n",
              "// distributed under the License is distributed on an \"AS IS\" BASIS,\n",
              "// WITHOUT WARRANTIES OR CONDITIONS OF ANY KIND, either express or implied.\n",
              "// See the License for the specific language governing permissions and\n",
              "// limitations under the License.\n",
              "\n",
              "/**\n",
              " * @fileoverview Helpers for google.colab Python module.\n",
              " */\n",
              "(function(scope) {\n",
              "function span(text, styleAttributes = {}) {\n",
              "  const element = document.createElement('span');\n",
              "  element.textContent = text;\n",
              "  for (const key of Object.keys(styleAttributes)) {\n",
              "    element.style[key] = styleAttributes[key];\n",
              "  }\n",
              "  return element;\n",
              "}\n",
              "\n",
              "// Max number of bytes which will be uploaded at a time.\n",
              "const MAX_PAYLOAD_SIZE = 100 * 1024;\n",
              "\n",
              "function _uploadFiles(inputId, outputId) {\n",
              "  const steps = uploadFilesStep(inputId, outputId);\n",
              "  const outputElement = document.getElementById(outputId);\n",
              "  // Cache steps on the outputElement to make it available for the next call\n",
              "  // to uploadFilesContinue from Python.\n",
              "  outputElement.steps = steps;\n",
              "\n",
              "  return _uploadFilesContinue(outputId);\n",
              "}\n",
              "\n",
              "// This is roughly an async generator (not supported in the browser yet),\n",
              "// where there are multiple asynchronous steps and the Python side is going\n",
              "// to poll for completion of each step.\n",
              "// This uses a Promise to block the python side on completion of each step,\n",
              "// then passes the result of the previous step as the input to the next step.\n",
              "function _uploadFilesContinue(outputId) {\n",
              "  const outputElement = document.getElementById(outputId);\n",
              "  const steps = outputElement.steps;\n",
              "\n",
              "  const next = steps.next(outputElement.lastPromiseValue);\n",
              "  return Promise.resolve(next.value.promise).then((value) => {\n",
              "    // Cache the last promise value to make it available to the next\n",
              "    // step of the generator.\n",
              "    outputElement.lastPromiseValue = value;\n",
              "    return next.value.response;\n",
              "  });\n",
              "}\n",
              "\n",
              "/**\n",
              " * Generator function which is called between each async step of the upload\n",
              " * process.\n",
              " * @param {string} inputId Element ID of the input file picker element.\n",
              " * @param {string} outputId Element ID of the output display.\n",
              " * @return {!Iterable<!Object>} Iterable of next steps.\n",
              " */\n",
              "function* uploadFilesStep(inputId, outputId) {\n",
              "  const inputElement = document.getElementById(inputId);\n",
              "  inputElement.disabled = false;\n",
              "\n",
              "  const outputElement = document.getElementById(outputId);\n",
              "  outputElement.innerHTML = '';\n",
              "\n",
              "  const pickedPromise = new Promise((resolve) => {\n",
              "    inputElement.addEventListener('change', (e) => {\n",
              "      resolve(e.target.files);\n",
              "    });\n",
              "  });\n",
              "\n",
              "  const cancel = document.createElement('button');\n",
              "  inputElement.parentElement.appendChild(cancel);\n",
              "  cancel.textContent = 'Cancel upload';\n",
              "  const cancelPromise = new Promise((resolve) => {\n",
              "    cancel.onclick = () => {\n",
              "      resolve(null);\n",
              "    };\n",
              "  });\n",
              "\n",
              "  // Wait for the user to pick the files.\n",
              "  const files = yield {\n",
              "    promise: Promise.race([pickedPromise, cancelPromise]),\n",
              "    response: {\n",
              "      action: 'starting',\n",
              "    }\n",
              "  };\n",
              "\n",
              "  cancel.remove();\n",
              "\n",
              "  // Disable the input element since further picks are not allowed.\n",
              "  inputElement.disabled = true;\n",
              "\n",
              "  if (!files) {\n",
              "    return {\n",
              "      response: {\n",
              "        action: 'complete',\n",
              "      }\n",
              "    };\n",
              "  }\n",
              "\n",
              "  for (const file of files) {\n",
              "    const li = document.createElement('li');\n",
              "    li.append(span(file.name, {fontWeight: 'bold'}));\n",
              "    li.append(span(\n",
              "        `(${file.type || 'n/a'}) - ${file.size} bytes, ` +\n",
              "        `last modified: ${\n",
              "            file.lastModifiedDate ? file.lastModifiedDate.toLocaleDateString() :\n",
              "                                    'n/a'} - `));\n",
              "    const percent = span('0% done');\n",
              "    li.appendChild(percent);\n",
              "\n",
              "    outputElement.appendChild(li);\n",
              "\n",
              "    const fileDataPromise = new Promise((resolve) => {\n",
              "      const reader = new FileReader();\n",
              "      reader.onload = (e) => {\n",
              "        resolve(e.target.result);\n",
              "      };\n",
              "      reader.readAsArrayBuffer(file);\n",
              "    });\n",
              "    // Wait for the data to be ready.\n",
              "    let fileData = yield {\n",
              "      promise: fileDataPromise,\n",
              "      response: {\n",
              "        action: 'continue',\n",
              "      }\n",
              "    };\n",
              "\n",
              "    // Use a chunked sending to avoid message size limits. See b/62115660.\n",
              "    let position = 0;\n",
              "    do {\n",
              "      const length = Math.min(fileData.byteLength - position, MAX_PAYLOAD_SIZE);\n",
              "      const chunk = new Uint8Array(fileData, position, length);\n",
              "      position += length;\n",
              "\n",
              "      const base64 = btoa(String.fromCharCode.apply(null, chunk));\n",
              "      yield {\n",
              "        response: {\n",
              "          action: 'append',\n",
              "          file: file.name,\n",
              "          data: base64,\n",
              "        },\n",
              "      };\n",
              "\n",
              "      let percentDone = fileData.byteLength === 0 ?\n",
              "          100 :\n",
              "          Math.round((position / fileData.byteLength) * 100);\n",
              "      percent.textContent = `${percentDone}% done`;\n",
              "\n",
              "    } while (position < fileData.byteLength);\n",
              "  }\n",
              "\n",
              "  // All done.\n",
              "  yield {\n",
              "    response: {\n",
              "      action: 'complete',\n",
              "    }\n",
              "  };\n",
              "}\n",
              "\n",
              "scope.google = scope.google || {};\n",
              "scope.google.colab = scope.google.colab || {};\n",
              "scope.google.colab._files = {\n",
              "  _uploadFiles,\n",
              "  _uploadFilesContinue,\n",
              "};\n",
              "})(self);\n",
              "</script> "
            ]
          },
          "metadata": {}
        },
        {
          "output_type": "stream",
          "name": "stdout",
          "text": [
            "Saving ecoli.data to ecoli.data\n"
          ]
        }
      ]
    },
    {
      "cell_type": "code",
      "source": [
        "import pandas as pd\n",
        "\n",
        "# Baca file ecoli.data\n",
        "df = pd.read_csv(\"ecoli.data\", delim_whitespace=True, header=None)\n",
        "\n",
        "# Tampilkan 5 baris pertama\n",
        "df.head()\n"
      ],
      "metadata": {
        "colab": {
          "base_uri": "https://localhost:8080/",
          "height": 242
        },
        "id": "yJq9IkE_oyQw",
        "outputId": "e1ddce8c-2f8e-448c-ec24-ce1a874205ba"
      },
      "execution_count": 3,
      "outputs": [
        {
          "output_type": "stream",
          "name": "stderr",
          "text": [
            "/tmp/ipython-input-3-1730801737.py:4: FutureWarning: The 'delim_whitespace' keyword in pd.read_csv is deprecated and will be removed in a future version. Use ``sep='\\s+'`` instead\n",
            "  df = pd.read_csv(\"ecoli.data\", delim_whitespace=True, header=None)\n"
          ]
        },
        {
          "output_type": "execute_result",
          "data": {
            "text/plain": [
              "            0     1     2     3    4     5     6     7   8\n",
              "0   AAT_ECOLI  0.49  0.29  0.48  0.5  0.56  0.24  0.35  cp\n",
              "1  ACEA_ECOLI  0.07  0.40  0.48  0.5  0.54  0.35  0.44  cp\n",
              "2  ACEK_ECOLI  0.56  0.40  0.48  0.5  0.49  0.37  0.46  cp\n",
              "3  ACKA_ECOLI  0.59  0.49  0.48  0.5  0.52  0.45  0.36  cp\n",
              "4   ADI_ECOLI  0.23  0.32  0.48  0.5  0.55  0.25  0.35  cp"
            ],
            "text/html": [
              "\n",
              "  <div id=\"df-af2f93be-fee7-42e8-98dd-4be9b26dfd34\" class=\"colab-df-container\">\n",
              "    <div>\n",
              "<style scoped>\n",
              "    .dataframe tbody tr th:only-of-type {\n",
              "        vertical-align: middle;\n",
              "    }\n",
              "\n",
              "    .dataframe tbody tr th {\n",
              "        vertical-align: top;\n",
              "    }\n",
              "\n",
              "    .dataframe thead th {\n",
              "        text-align: right;\n",
              "    }\n",
              "</style>\n",
              "<table border=\"1\" class=\"dataframe\">\n",
              "  <thead>\n",
              "    <tr style=\"text-align: right;\">\n",
              "      <th></th>\n",
              "      <th>0</th>\n",
              "      <th>1</th>\n",
              "      <th>2</th>\n",
              "      <th>3</th>\n",
              "      <th>4</th>\n",
              "      <th>5</th>\n",
              "      <th>6</th>\n",
              "      <th>7</th>\n",
              "      <th>8</th>\n",
              "    </tr>\n",
              "  </thead>\n",
              "  <tbody>\n",
              "    <tr>\n",
              "      <th>0</th>\n",
              "      <td>AAT_ECOLI</td>\n",
              "      <td>0.49</td>\n",
              "      <td>0.29</td>\n",
              "      <td>0.48</td>\n",
              "      <td>0.5</td>\n",
              "      <td>0.56</td>\n",
              "      <td>0.24</td>\n",
              "      <td>0.35</td>\n",
              "      <td>cp</td>\n",
              "    </tr>\n",
              "    <tr>\n",
              "      <th>1</th>\n",
              "      <td>ACEA_ECOLI</td>\n",
              "      <td>0.07</td>\n",
              "      <td>0.40</td>\n",
              "      <td>0.48</td>\n",
              "      <td>0.5</td>\n",
              "      <td>0.54</td>\n",
              "      <td>0.35</td>\n",
              "      <td>0.44</td>\n",
              "      <td>cp</td>\n",
              "    </tr>\n",
              "    <tr>\n",
              "      <th>2</th>\n",
              "      <td>ACEK_ECOLI</td>\n",
              "      <td>0.56</td>\n",
              "      <td>0.40</td>\n",
              "      <td>0.48</td>\n",
              "      <td>0.5</td>\n",
              "      <td>0.49</td>\n",
              "      <td>0.37</td>\n",
              "      <td>0.46</td>\n",
              "      <td>cp</td>\n",
              "    </tr>\n",
              "    <tr>\n",
              "      <th>3</th>\n",
              "      <td>ACKA_ECOLI</td>\n",
              "      <td>0.59</td>\n",
              "      <td>0.49</td>\n",
              "      <td>0.48</td>\n",
              "      <td>0.5</td>\n",
              "      <td>0.52</td>\n",
              "      <td>0.45</td>\n",
              "      <td>0.36</td>\n",
              "      <td>cp</td>\n",
              "    </tr>\n",
              "    <tr>\n",
              "      <th>4</th>\n",
              "      <td>ADI_ECOLI</td>\n",
              "      <td>0.23</td>\n",
              "      <td>0.32</td>\n",
              "      <td>0.48</td>\n",
              "      <td>0.5</td>\n",
              "      <td>0.55</td>\n",
              "      <td>0.25</td>\n",
              "      <td>0.35</td>\n",
              "      <td>cp</td>\n",
              "    </tr>\n",
              "  </tbody>\n",
              "</table>\n",
              "</div>\n",
              "    <div class=\"colab-df-buttons\">\n",
              "\n",
              "  <div class=\"colab-df-container\">\n",
              "    <button class=\"colab-df-convert\" onclick=\"convertToInteractive('df-af2f93be-fee7-42e8-98dd-4be9b26dfd34')\"\n",
              "            title=\"Convert this dataframe to an interactive table.\"\n",
              "            style=\"display:none;\">\n",
              "\n",
              "  <svg xmlns=\"http://www.w3.org/2000/svg\" height=\"24px\" viewBox=\"0 -960 960 960\">\n",
              "    <path d=\"M120-120v-720h720v720H120Zm60-500h600v-160H180v160Zm220 220h160v-160H400v160Zm0 220h160v-160H400v160ZM180-400h160v-160H180v160Zm440 0h160v-160H620v160ZM180-180h160v-160H180v160Zm440 0h160v-160H620v160Z\"/>\n",
              "  </svg>\n",
              "    </button>\n",
              "\n",
              "  <style>\n",
              "    .colab-df-container {\n",
              "      display:flex;\n",
              "      gap: 12px;\n",
              "    }\n",
              "\n",
              "    .colab-df-convert {\n",
              "      background-color: #E8F0FE;\n",
              "      border: none;\n",
              "      border-radius: 50%;\n",
              "      cursor: pointer;\n",
              "      display: none;\n",
              "      fill: #1967D2;\n",
              "      height: 32px;\n",
              "      padding: 0 0 0 0;\n",
              "      width: 32px;\n",
              "    }\n",
              "\n",
              "    .colab-df-convert:hover {\n",
              "      background-color: #E2EBFA;\n",
              "      box-shadow: 0px 1px 2px rgba(60, 64, 67, 0.3), 0px 1px 3px 1px rgba(60, 64, 67, 0.15);\n",
              "      fill: #174EA6;\n",
              "    }\n",
              "\n",
              "    .colab-df-buttons div {\n",
              "      margin-bottom: 4px;\n",
              "    }\n",
              "\n",
              "    [theme=dark] .colab-df-convert {\n",
              "      background-color: #3B4455;\n",
              "      fill: #D2E3FC;\n",
              "    }\n",
              "\n",
              "    [theme=dark] .colab-df-convert:hover {\n",
              "      background-color: #434B5C;\n",
              "      box-shadow: 0px 1px 3px 1px rgba(0, 0, 0, 0.15);\n",
              "      filter: drop-shadow(0px 1px 2px rgba(0, 0, 0, 0.3));\n",
              "      fill: #FFFFFF;\n",
              "    }\n",
              "  </style>\n",
              "\n",
              "    <script>\n",
              "      const buttonEl =\n",
              "        document.querySelector('#df-af2f93be-fee7-42e8-98dd-4be9b26dfd34 button.colab-df-convert');\n",
              "      buttonEl.style.display =\n",
              "        google.colab.kernel.accessAllowed ? 'block' : 'none';\n",
              "\n",
              "      async function convertToInteractive(key) {\n",
              "        const element = document.querySelector('#df-af2f93be-fee7-42e8-98dd-4be9b26dfd34');\n",
              "        const dataTable =\n",
              "          await google.colab.kernel.invokeFunction('convertToInteractive',\n",
              "                                                    [key], {});\n",
              "        if (!dataTable) return;\n",
              "\n",
              "        const docLinkHtml = 'Like what you see? Visit the ' +\n",
              "          '<a target=\"_blank\" href=https://colab.research.google.com/notebooks/data_table.ipynb>data table notebook</a>'\n",
              "          + ' to learn more about interactive tables.';\n",
              "        element.innerHTML = '';\n",
              "        dataTable['output_type'] = 'display_data';\n",
              "        await google.colab.output.renderOutput(dataTable, element);\n",
              "        const docLink = document.createElement('div');\n",
              "        docLink.innerHTML = docLinkHtml;\n",
              "        element.appendChild(docLink);\n",
              "      }\n",
              "    </script>\n",
              "  </div>\n",
              "\n",
              "\n",
              "    <div id=\"df-697ed5eb-bd57-489e-8c5c-0033da27bae6\">\n",
              "      <button class=\"colab-df-quickchart\" onclick=\"quickchart('df-697ed5eb-bd57-489e-8c5c-0033da27bae6')\"\n",
              "                title=\"Suggest charts\"\n",
              "                style=\"display:none;\">\n",
              "\n",
              "<svg xmlns=\"http://www.w3.org/2000/svg\" height=\"24px\"viewBox=\"0 0 24 24\"\n",
              "     width=\"24px\">\n",
              "    <g>\n",
              "        <path d=\"M19 3H5c-1.1 0-2 .9-2 2v14c0 1.1.9 2 2 2h14c1.1 0 2-.9 2-2V5c0-1.1-.9-2-2-2zM9 17H7v-7h2v7zm4 0h-2V7h2v10zm4 0h-2v-4h2v4z\"/>\n",
              "    </g>\n",
              "</svg>\n",
              "      </button>\n",
              "\n",
              "<style>\n",
              "  .colab-df-quickchart {\n",
              "      --bg-color: #E8F0FE;\n",
              "      --fill-color: #1967D2;\n",
              "      --hover-bg-color: #E2EBFA;\n",
              "      --hover-fill-color: #174EA6;\n",
              "      --disabled-fill-color: #AAA;\n",
              "      --disabled-bg-color: #DDD;\n",
              "  }\n",
              "\n",
              "  [theme=dark] .colab-df-quickchart {\n",
              "      --bg-color: #3B4455;\n",
              "      --fill-color: #D2E3FC;\n",
              "      --hover-bg-color: #434B5C;\n",
              "      --hover-fill-color: #FFFFFF;\n",
              "      --disabled-bg-color: #3B4455;\n",
              "      --disabled-fill-color: #666;\n",
              "  }\n",
              "\n",
              "  .colab-df-quickchart {\n",
              "    background-color: var(--bg-color);\n",
              "    border: none;\n",
              "    border-radius: 50%;\n",
              "    cursor: pointer;\n",
              "    display: none;\n",
              "    fill: var(--fill-color);\n",
              "    height: 32px;\n",
              "    padding: 0;\n",
              "    width: 32px;\n",
              "  }\n",
              "\n",
              "  .colab-df-quickchart:hover {\n",
              "    background-color: var(--hover-bg-color);\n",
              "    box-shadow: 0 1px 2px rgba(60, 64, 67, 0.3), 0 1px 3px 1px rgba(60, 64, 67, 0.15);\n",
              "    fill: var(--button-hover-fill-color);\n",
              "  }\n",
              "\n",
              "  .colab-df-quickchart-complete:disabled,\n",
              "  .colab-df-quickchart-complete:disabled:hover {\n",
              "    background-color: var(--disabled-bg-color);\n",
              "    fill: var(--disabled-fill-color);\n",
              "    box-shadow: none;\n",
              "  }\n",
              "\n",
              "  .colab-df-spinner {\n",
              "    border: 2px solid var(--fill-color);\n",
              "    border-color: transparent;\n",
              "    border-bottom-color: var(--fill-color);\n",
              "    animation:\n",
              "      spin 1s steps(1) infinite;\n",
              "  }\n",
              "\n",
              "  @keyframes spin {\n",
              "    0% {\n",
              "      border-color: transparent;\n",
              "      border-bottom-color: var(--fill-color);\n",
              "      border-left-color: var(--fill-color);\n",
              "    }\n",
              "    20% {\n",
              "      border-color: transparent;\n",
              "      border-left-color: var(--fill-color);\n",
              "      border-top-color: var(--fill-color);\n",
              "    }\n",
              "    30% {\n",
              "      border-color: transparent;\n",
              "      border-left-color: var(--fill-color);\n",
              "      border-top-color: var(--fill-color);\n",
              "      border-right-color: var(--fill-color);\n",
              "    }\n",
              "    40% {\n",
              "      border-color: transparent;\n",
              "      border-right-color: var(--fill-color);\n",
              "      border-top-color: var(--fill-color);\n",
              "    }\n",
              "    60% {\n",
              "      border-color: transparent;\n",
              "      border-right-color: var(--fill-color);\n",
              "    }\n",
              "    80% {\n",
              "      border-color: transparent;\n",
              "      border-right-color: var(--fill-color);\n",
              "      border-bottom-color: var(--fill-color);\n",
              "    }\n",
              "    90% {\n",
              "      border-color: transparent;\n",
              "      border-bottom-color: var(--fill-color);\n",
              "    }\n",
              "  }\n",
              "</style>\n",
              "\n",
              "      <script>\n",
              "        async function quickchart(key) {\n",
              "          const quickchartButtonEl =\n",
              "            document.querySelector('#' + key + ' button');\n",
              "          quickchartButtonEl.disabled = true;  // To prevent multiple clicks.\n",
              "          quickchartButtonEl.classList.add('colab-df-spinner');\n",
              "          try {\n",
              "            const charts = await google.colab.kernel.invokeFunction(\n",
              "                'suggestCharts', [key], {});\n",
              "          } catch (error) {\n",
              "            console.error('Error during call to suggestCharts:', error);\n",
              "          }\n",
              "          quickchartButtonEl.classList.remove('colab-df-spinner');\n",
              "          quickchartButtonEl.classList.add('colab-df-quickchart-complete');\n",
              "        }\n",
              "        (() => {\n",
              "          let quickchartButtonEl =\n",
              "            document.querySelector('#df-697ed5eb-bd57-489e-8c5c-0033da27bae6 button');\n",
              "          quickchartButtonEl.style.display =\n",
              "            google.colab.kernel.accessAllowed ? 'block' : 'none';\n",
              "        })();\n",
              "      </script>\n",
              "    </div>\n",
              "\n",
              "    </div>\n",
              "  </div>\n"
            ],
            "application/vnd.google.colaboratory.intrinsic+json": {
              "type": "dataframe",
              "variable_name": "df",
              "summary": "{\n  \"name\": \"df\",\n  \"rows\": 336,\n  \"fields\": [\n    {\n      \"column\": 0,\n      \"properties\": {\n        \"dtype\": \"string\",\n        \"num_unique_values\": 336,\n        \"samples\": [\n          \"NHAR_ECOLI\",\n          \"SOXS_ECOLI\",\n          \"ECPD_ECOLI\"\n        ],\n        \"semantic_type\": \"\",\n        \"description\": \"\"\n      }\n    },\n    {\n      \"column\": 1,\n      \"properties\": {\n        \"dtype\": \"number\",\n        \"std\": 0.1946339757237703,\n        \"min\": 0.0,\n        \"max\": 0.89,\n        \"num_unique_values\": 78,\n        \"samples\": [\n          0.54,\n          0.49,\n          0.52\n        ],\n        \"semantic_type\": \"\",\n        \"description\": \"\"\n      }\n    },\n    {\n      \"column\": 2,\n      \"properties\": {\n        \"dtype\": \"number\",\n        \"std\": 0.14815683501342095,\n        \"min\": 0.16,\n        \"max\": 1.0,\n        \"num_unique_values\": 63,\n        \"samples\": [\n          0.8,\n          0.72,\n          0.29\n        ],\n        \"semantic_type\": \"\",\n        \"description\": \"\"\n      }\n    },\n    {\n      \"column\": 3,\n      \"properties\": {\n        \"dtype\": \"number\",\n        \"std\": 0.0884952787259722,\n        \"min\": 0.48,\n        \"max\": 1.0,\n        \"num_unique_values\": 2,\n        \"samples\": [\n          1.0,\n          0.48\n        ],\n        \"semantic_type\": \"\",\n        \"description\": \"\"\n      }\n    },\n    {\n      \"column\": 4,\n      \"properties\": {\n        \"dtype\": \"number\",\n        \"std\": 0.027277236279499045,\n        \"min\": 0.5,\n        \"max\": 1.0,\n        \"num_unique_values\": 2,\n        \"samples\": [\n          1.0,\n          0.5\n        ],\n        \"semantic_type\": \"\",\n        \"description\": \"\"\n      }\n    },\n    {\n      \"column\": 5,\n      \"properties\": {\n        \"dtype\": \"number\",\n        \"std\": 0.12237573291754922,\n        \"min\": 0.0,\n        \"max\": 0.88,\n        \"num_unique_values\": 59,\n        \"samples\": [\n          0.56,\n          0.36\n        ],\n        \"semantic_type\": \"\",\n        \"description\": \"\"\n      }\n    },\n    {\n      \"column\": 6,\n      \"properties\": {\n        \"dtype\": \"number\",\n        \"std\": 0.21575130297051617,\n        \"min\": 0.03,\n        \"max\": 1.0,\n        \"num_unique_values\": 82,\n        \"samples\": [\n          0.55,\n          0.24\n        ],\n        \"semantic_type\": \"\",\n        \"description\": \"\"\n      }\n    },\n    {\n      \"column\": 7,\n      \"properties\": {\n        \"dtype\": \"number\",\n        \"std\": 0.20941051515927994,\n        \"min\": 0.0,\n        \"max\": 0.99,\n        \"num_unique_values\": 77,\n        \"samples\": [\n          0.34,\n          0.51\n        ],\n        \"semantic_type\": \"\",\n        \"description\": \"\"\n      }\n    },\n    {\n      \"column\": 8,\n      \"properties\": {\n        \"dtype\": \"category\",\n        \"num_unique_values\": 8,\n        \"samples\": [\n          \"im\",\n          \"om\"\n        ],\n        \"semantic_type\": \"\",\n        \"description\": \"\"\n      }\n    }\n  ]\n}"
            }
          },
          "metadata": {},
          "execution_count": 3
        }
      ]
    },
    {
      "cell_type": "code",
      "source": [
        "# Rename kolom berdasarkan struktur dataset\n",
        "df.columns = ['sequence_name', 'mcg', 'gvh', 'lip', 'chg', 'aac', 'alm1', 'alm2', 'class']\n",
        "\n",
        "# Lihat struktur data\n",
        "print(\"🔹 Jumlah Data:\", df.shape)\n",
        "print(\"\\n🔹 Informasi Data:\")\n",
        "print(df.info())\n",
        "\n",
        "# Cek jumlah data per kelas\n",
        "print(\"\\n🔹 Distribusi Kelas:\")\n",
        "print(df['class'].value_counts())\n"
      ],
      "metadata": {
        "colab": {
          "base_uri": "https://localhost:8080/"
        },
        "id": "aUkxPTJQo8BN",
        "outputId": "51a34df6-5e7d-43c5-9fad-bdb821139f89"
      },
      "execution_count": 4,
      "outputs": [
        {
          "output_type": "stream",
          "name": "stdout",
          "text": [
            "🔹 Jumlah Data: (336, 9)\n",
            "\n",
            "🔹 Informasi Data:\n",
            "<class 'pandas.core.frame.DataFrame'>\n",
            "RangeIndex: 336 entries, 0 to 335\n",
            "Data columns (total 9 columns):\n",
            " #   Column         Non-Null Count  Dtype  \n",
            "---  ------         --------------  -----  \n",
            " 0   sequence_name  336 non-null    object \n",
            " 1   mcg            336 non-null    float64\n",
            " 2   gvh            336 non-null    float64\n",
            " 3   lip            336 non-null    float64\n",
            " 4   chg            336 non-null    float64\n",
            " 5   aac            336 non-null    float64\n",
            " 6   alm1           336 non-null    float64\n",
            " 7   alm2           336 non-null    float64\n",
            " 8   class          336 non-null    object \n",
            "dtypes: float64(7), object(2)\n",
            "memory usage: 23.8+ KB\n",
            "None\n",
            "\n",
            "🔹 Distribusi Kelas:\n",
            "class\n",
            "cp     143\n",
            "im      77\n",
            "pp      52\n",
            "imU     35\n",
            "om      20\n",
            "omL      5\n",
            "imL      2\n",
            "imS      2\n",
            "Name: count, dtype: int64\n"
          ]
        }
      ]
    },
    {
      "cell_type": "markdown",
      "source": [
        "2. data understanding\n",
        "\n",
        "pada tahap ini, meliputi :\n",
        "\n",
        " Melihat dimensi data,\n",
        " Menampilkan tipe dan ringkasan tiap kolom,\n",
        " Distribusi label (kelas),\n",
        " Statistik deskriptif,\n",
        " Korelasi antar fitur,\n",
        " Visualisasi,"
      ],
      "metadata": {
        "id": "HJ5LkDPFpJO-"
      }
    },
    {
      "cell_type": "markdown",
      "source": [
        "A. stuktur dan ringkasan data"
      ],
      "metadata": {
        "id": "jfKl3ux_qn9u"
      }
    },
    {
      "cell_type": "code",
      "source": [
        "# Tampilkan dimensi data\n",
        "print(f\"Jumlah baris dan kolom: {df.shape}\")\n",
        "\n",
        "# Tipe data tiap kolom\n",
        "print(\"\\nTipe data:\")\n",
        "print(df.dtypes)\n",
        "\n",
        "# Cek missing values\n",
        "print(\"\\nJumlah missing value per kolom:\")\n",
        "print(df.isnull().sum())\n",
        "\n",
        "# Cek distribusi label (kelas)\n",
        "print(\"\\nDistribusi kelas:\")\n",
        "print(df['class'].value_counts())\n"
      ],
      "metadata": {
        "colab": {
          "base_uri": "https://localhost:8080/"
        },
        "id": "45Ad9wOdpdQS",
        "outputId": "3b649f6b-bde6-475a-cb39-255a9b3dba5c"
      },
      "execution_count": 5,
      "outputs": [
        {
          "output_type": "stream",
          "name": "stdout",
          "text": [
            "Jumlah baris dan kolom: (336, 9)\n",
            "\n",
            "Tipe data:\n",
            "sequence_name     object\n",
            "mcg              float64\n",
            "gvh              float64\n",
            "lip              float64\n",
            "chg              float64\n",
            "aac              float64\n",
            "alm1             float64\n",
            "alm2             float64\n",
            "class             object\n",
            "dtype: object\n",
            "\n",
            "Jumlah missing value per kolom:\n",
            "sequence_name    0\n",
            "mcg              0\n",
            "gvh              0\n",
            "lip              0\n",
            "chg              0\n",
            "aac              0\n",
            "alm1             0\n",
            "alm2             0\n",
            "class            0\n",
            "dtype: int64\n",
            "\n",
            "Distribusi kelas:\n",
            "class\n",
            "cp     143\n",
            "im      77\n",
            "pp      52\n",
            "imU     35\n",
            "om      20\n",
            "omL      5\n",
            "imL      2\n",
            "imS      2\n",
            "Name: count, dtype: int64\n"
          ]
        }
      ]
    },
    {
      "cell_type": "markdown",
      "source": [
        "B. statistik deskriptif"
      ],
      "metadata": {
        "id": "Bl0LDOCBq4FY"
      }
    },
    {
      "cell_type": "code",
      "source": [
        "# Statistik umum semua fitur numerik\n",
        "print(\"\\nStatistik deskriptif fitur numerik:\")\n",
        "print(df.describe())\n"
      ],
      "metadata": {
        "colab": {
          "base_uri": "https://localhost:8080/"
        },
        "id": "pj1OtWMWpiY3",
        "outputId": "40d0f8a8-1da2-47f2-a92a-044872284d52"
      },
      "execution_count": 6,
      "outputs": [
        {
          "output_type": "stream",
          "name": "stdout",
          "text": [
            "\n",
            "Statistik deskriptif fitur numerik:\n",
            "              mcg         gvh         lip         chg         aac        alm1  \\\n",
            "count  336.000000  336.000000  336.000000  336.000000  336.000000  336.000000   \n",
            "mean     0.500060    0.500000    0.495476    0.501488    0.500030    0.500179   \n",
            "std      0.194634    0.148157    0.088495    0.027277    0.122376    0.215751   \n",
            "min      0.000000    0.160000    0.480000    0.500000    0.000000    0.030000   \n",
            "25%      0.340000    0.400000    0.480000    0.500000    0.420000    0.330000   \n",
            "50%      0.500000    0.470000    0.480000    0.500000    0.495000    0.455000   \n",
            "75%      0.662500    0.570000    0.480000    0.500000    0.570000    0.710000   \n",
            "max      0.890000    1.000000    1.000000    1.000000    0.880000    1.000000   \n",
            "\n",
            "             alm2  \n",
            "count  336.000000  \n",
            "mean     0.499732  \n",
            "std      0.209411  \n",
            "min      0.000000  \n",
            "25%      0.350000  \n",
            "50%      0.430000  \n",
            "75%      0.710000  \n",
            "max      0.990000  \n"
          ]
        }
      ]
    },
    {
      "cell_type": "markdown",
      "source": [
        "C. korelasi antar fitur"
      ],
      "metadata": {
        "id": "No0njkF-q-6C"
      }
    },
    {
      "cell_type": "code",
      "source": [
        "import seaborn as sns\n",
        "import matplotlib.pyplot as plt\n",
        "\n",
        "# Korelasi antar fitur numerik\n",
        "plt.figure(figsize=(10,6))\n",
        "sns.heatmap(df.drop(columns=['sequence_name', 'class']).corr(), annot=True, cmap='coolwarm')\n",
        "plt.title(\"Korelasi Antar Fitur\")\n",
        "plt.show()\n"
      ],
      "metadata": {
        "colab": {
          "base_uri": "https://localhost:8080/",
          "height": 545
        },
        "id": "u_wrQ599pm7m",
        "outputId": "e82e134b-748b-4845-94eb-93356a399131"
      },
      "execution_count": 7,
      "outputs": [
        {
          "output_type": "display_data",
          "data": {
            "text/plain": [
              "<Figure size 1000x600 with 2 Axes>"
            ],
            "image/png": "[encoded data removed]"
          },
          "metadata": {}
        }
      ]
    },
    {
      "cell_type": "markdown",
      "source": [
        "D. distribusi setiap fitur"
      ],
      "metadata": {
        "id": "CaPNLGj3rEiJ"
      }
    },
    {
      "cell_type": "code",
      "source": [
        "# Histogram setiap fitur numerik\n",
        "df.drop(columns=['sequence_name', 'class']).hist(figsize=(12, 10), bins=20)\n",
        "plt.suptitle(\"Distribusi Setiap Fitur\")\n",
        "plt.show()\n"
      ],
      "metadata": {
        "colab": {
          "base_uri": "https://localhost:8080/",
          "height": 930
        },
        "id": "rDfq4aYppxAF",
        "outputId": "06b036a9-cdeb-4fe0-a10d-961120506b92"
      },
      "execution_count": 8,
      "outputs": [
        {
          "output_type": "display_data",
          "data": {
            "text/plain": [
              "<Figure size 1200x1000 with 9 Axes>"
            ],
            "image/png": "[encoded data removed]"
          },
          "metadata": {}
        }
      ]
    },
    {
      "cell_type": "markdown",
      "source": [
        "E. distribusi kelas"
      ],
      "metadata": {
        "id": "5uG-v_VgrLhl"
      }
    },
    {
      "cell_type": "code",
      "source": [
        "sns.countplot(data=df, x='class')\n",
        "plt.title(\"Distribusi Kelas Target\")\n",
        "plt.xticks(rotation=45)\n",
        "plt.show()\n"
      ],
      "metadata": {
        "colab": {
          "base_uri": "https://localhost:8080/",
          "height": 489
        },
        "id": "BCpiBwr9p4-u",
        "outputId": "104edc70-ea80-4f7b-9e67-b96f79c02dcc"
      },
      "execution_count": 9,
      "outputs": [
        {
          "output_type": "display_data",
          "data": {
            "text/plain": [
              "<Figure size 640x480 with 1 Axes>"
            ],
            "image/png": "[encoded data removed]"
          },
          "metadata": {}
        }
      ]
    },
    {
      "cell_type": "markdown",
      "source": [
        "3. prepocessing"
      ],
      "metadata": {
        "id": "U8tlMiFTp7rr"
      }
    },
    {
      "cell_type": "markdown",
      "source": [
        "A. hapus kolom yang tidak di gunakan"
      ],
      "metadata": {
        "id": "lWK0JrbbrVaZ"
      }
    },
    {
      "cell_type": "code",
      "source": [
        "# Hapus kolom sequence_name (tidak relevan untuk model)\n",
        "df_cleaned = df.drop(columns=['sequence_name'])\n"
      ],
      "metadata": {
        "id": "wQBa5qwcqBSS"
      },
      "execution_count": 10,
      "outputs": []
    },
    {
      "cell_type": "markdown",
      "source": [
        "B. pisahkan fitur dan label"
      ],
      "metadata": {
        "id": "q0B3tUykrb3i"
      }
    },
    {
      "cell_type": "code",
      "source": [
        "# Pisahkan fitur dan target\n",
        "X = df_cleaned.drop(columns=['class'])\n",
        "y = df_cleaned['class']\n"
      ],
      "metadata": {
        "id": "iYYabvomrh5w"
      },
      "execution_count": 11,
      "outputs": []
    },
    {
      "cell_type": "markdown",
      "source": [
        "C. encode label kelas"
      ],
      "metadata": {
        "id": "gE3lewGwrjql"
      }
    },
    {
      "cell_type": "code",
      "source": [
        "from sklearn.preprocessing import LabelEncoder\n",
        "\n",
        "# Label encoding\n",
        "le = LabelEncoder()\n",
        "y_encoded = le.fit_transform(y)\n",
        "\n",
        "# Lihat mapping label\n",
        "label_mapping = dict(zip(le.classes_, le.transform(le.classes_)))\n",
        "print(\"Mapping label:\", label_mapping)\n"
      ],
      "metadata": {
        "colab": {
          "base_uri": "https://localhost:8080/"
        },
        "id": "Fgviz67Xrocw",
        "outputId": "6491d5a1-01ad-4815-930d-37c065f577b6"
      },
      "execution_count": 12,
      "outputs": [
        {
          "output_type": "stream",
          "name": "stdout",
          "text": [
            "Mapping label: {'cp': np.int64(0), 'im': np.int64(1), 'imL': np.int64(2), 'imS': np.int64(3), 'imU': np.int64(4), 'om': np.int64(5), 'omL': np.int64(6), 'pp': np.int64(7)}\n"
          ]
        }
      ]
    },
    {
      "cell_type": "markdown",
      "source": [
        "D. normalisasi fitur"
      ],
      "metadata": {
        "id": "SHn_pzFJruVB"
      }
    },
    {
      "cell_type": "code",
      "source": [
        "from sklearn.preprocessing import MinMaxScaler\n",
        "\n",
        "# Normalisasi ke rentang 0-1\n",
        "scaler = MinMaxScaler()\n",
        "X_scaled = scaler.fit_transform(X)\n"
      ],
      "metadata": {
        "id": "-Q1EHAEMrw5r"
      },
      "execution_count": 13,
      "outputs": []
    },
    {
      "cell_type": "markdown",
      "source": [
        "E. split data : train dan test"
      ],
      "metadata": {
        "id": "2k-J2zQvryw1"
      }
    },
    {
      "cell_type": "code",
      "source": [
        "from sklearn.model_selection import train_test_split\n",
        "\n",
        "# Split data: 80% train, 20% test\n",
        "X_train, X_test, y_train, y_test = train_test_split(\n",
        "    X_scaled, y_encoded, test_size=0.2, random_state=42, stratify=y_encoded\n",
        ")\n",
        "\n",
        "print(\"Jumlah data latih:\", X_train.shape[0])\n",
        "print(\"Jumlah data uji:\", X_test.shape[0])\n"
      ],
      "metadata": {
        "colab": {
          "base_uri": "https://localhost:8080/"
        },
        "id": "R-xzhlbZr7L-",
        "outputId": "790f1f4e-d3b2-4dfe-8bb9-8e373603c869"
      },
      "execution_count": 14,
      "outputs": [
        {
          "output_type": "stream",
          "name": "stdout",
          "text": [
            "Jumlah data latih: 268\n",
            "Jumlah data uji: 68\n"
          ]
        }
      ]
    },
    {
      "cell_type": "markdown",
      "source": [
        "4. modeling"
      ],
      "metadata": {
        "id": "Z6X2EJ-vr9xP"
      }
    },
    {
      "cell_type": "code",
      "source": [
        "from sklearn.linear_model import LogisticRegression\n",
        "from sklearn.tree import DecisionTreeClassifier\n",
        "from sklearn.neighbors import KNeighborsClassifier\n",
        "from sklearn.svm import SVC\n",
        "from sklearn.ensemble import RandomForestClassifier\n",
        "from sklearn.metrics import accuracy_score, classification_report\n",
        "import numpy as np\n"
      ],
      "metadata": {
        "id": "uU-Mj7DGsGvo"
      },
      "execution_count": 15,
      "outputs": []
    },
    {
      "cell_type": "markdown",
      "source": [
        "A. inisialisasi model"
      ],
      "metadata": {
        "id": "sYu5Qn1MsYFg"
      }
    },
    {
      "cell_type": "code",
      "source": [
        "# Daftar model yang akan digunakan\n",
        "models = {\n",
        "    \"Logistic Regression\": LogisticRegression(max_iter=1000),\n",
        "    \"Decision Tree\": DecisionTreeClassifier(),\n",
        "    \"K-Nearest Neighbors\": KNeighborsClassifier(),\n",
        "    \"SVM\": SVC(),\n",
        "    \"Random Forest\": RandomForestClassifier()\n",
        "}\n"
      ],
      "metadata": {
        "id": "p4Ca0mGdsel7"
      },
      "execution_count": 16,
      "outputs": []
    },
    {
      "cell_type": "markdown",
      "source": [
        "B. accuracy"
      ],
      "metadata": {
        "id": "N1DEWgcPsgO6"
      }
    },
    {
      "cell_type": "code",
      "source": [
        "# Simpan hasil akurasi tiap model\n",
        "model_accuracies = {}\n",
        "\n",
        "# Melatih dan mengukur akurasi tiap model\n",
        "for name, model in models.items():\n",
        "    model.fit(X_train, y_train)\n",
        "    y_pred = model.predict(X_test)\n",
        "    acc = accuracy_score(y_test, y_pred)\n",
        "    model_accuracies[name] = acc\n",
        "    print(f\"🔹 Model: {name}\")\n",
        "    print(f\"✅ Akurasi: {acc:.4f}\")\n",
        "    print(\"-\" * 50)\n"
      ],
      "metadata": {
        "colab": {
          "base_uri": "https://localhost:8080/"
        },
        "id": "-YQooVPhslKq",
        "outputId": "ab42cc57-d9ae-4af6-e2aa-a606f59fa763"
      },
      "execution_count": 17,
      "outputs": [
        {
          "output_type": "stream",
          "name": "stdout",
          "text": [
            "🔹 Model: Logistic Regression\n",
            "✅ Akurasi: 0.8824\n",
            "--------------------------------------------------\n",
            "🔹 Model: Decision Tree\n",
            "✅ Akurasi: 0.8088\n",
            "--------------------------------------------------\n",
            "🔹 Model: K-Nearest Neighbors\n",
            "✅ Akurasi: 0.9118\n",
            "--------------------------------------------------\n",
            "🔹 Model: SVM\n",
            "✅ Akurasi: 0.8971\n",
            "--------------------------------------------------\n",
            "🔹 Model: Random Forest\n",
            "✅ Akurasi: 0.8824\n",
            "--------------------------------------------------\n"
          ]
        }
      ]
    },
    {
      "cell_type": "markdown",
      "source": [
        "C. akurasi dalam bentuk tabel"
      ],
      "metadata": {
        "id": "RNzqWisdszCM"
      }
    },
    {
      "cell_type": "code",
      "source": [
        "# Tampilkan hasil akurasi dalam tabel\n",
        "import pandas as pd\n",
        "\n",
        "result_df = pd.DataFrame(list(model_accuracies.items()), columns=[\"Model\", \"Accuracy\"])\n",
        "result_df = result_df.sort_values(by=\"Accuracy\", ascending=False).reset_index(drop=True)\n",
        "result_df\n"
      ],
      "metadata": {
        "colab": {
          "base_uri": "https://localhost:8080/",
          "height": 206
        },
        "id": "31kNyn0EstZf",
        "outputId": "99c2d70d-61fb-4c78-a1b8-eb2f8f21298b"
      },
      "execution_count": 18,
      "outputs": [
        {
          "output_type": "execute_result",
          "data": {
            "text/plain": [
              "                 Model  Accuracy\n",
              "0  K-Nearest Neighbors  0.911765\n",
              "1                  SVM  0.897059\n",
              "2  Logistic Regression  0.882353\n",
              "3        Random Forest  0.882353\n",
              "4        Decision Tree  0.808824"
            ],
            "text/html": [
              "\n",
              "  <div id=\"df-db458037-5621-4e33-bde1-7eaecec01df1\" class=\"colab-df-container\">\n",
              "    <div>\n",
              "<style scoped>\n",
              "    .dataframe tbody tr th:only-of-type {\n",
              "        vertical-align: middle;\n",
              "    }\n",
              "\n",
              "    .dataframe tbody tr th {\n",
              "        vertical-align: top;\n",
              "    }\n",
              "\n",
              "    .dataframe thead th {\n",
              "        text-align: right;\n",
              "    }\n",
              "</style>\n",
              "<table border=\"1\" class=\"dataframe\">\n",
              "  <thead>\n",
              "    <tr style=\"text-align: right;\">\n",
              "      <th></th>\n",
              "      <th>Model</th>\n",
              "      <th>Accuracy</th>\n",
              "    </tr>\n",
              "  </thead>\n",
              "  <tbody>\n",
              "    <tr>\n",
              "      <th>0</th>\n",
              "      <td>K-Nearest Neighbors</td>\n",
              "      <td>0.911765</td>\n",
              "    </tr>\n",
              "    <tr>\n",
              "      <th>1</th>\n",
              "      <td>SVM</td>\n",
              "      <td>0.897059</td>\n",
              "    </tr>\n",
              "    <tr>\n",
              "      <th>2</th>\n",
              "      <td>Logistic Regression</td>\n",
              "      <td>0.882353</td>\n",
              "    </tr>\n",
              "    <tr>\n",
              "      <th>3</th>\n",
              "      <td>Random Forest</td>\n",
              "      <td>0.882353</td>\n",
              "    </tr>\n",
              "    <tr>\n",
              "      <th>4</th>\n",
              "      <td>Decision Tree</td>\n",
              "      <td>0.808824</td>\n",
              "    </tr>\n",
              "  </tbody>\n",
              "</table>\n",
              "</div>\n",
              "    <div class=\"colab-df-buttons\">\n",
              "\n",
              "  <div class=\"colab-df-container\">\n",
              "    <button class=\"colab-df-convert\" onclick=\"convertToInteractive('df-db458037-5621-4e33-bde1-7eaecec01df1')\"\n",
              "            title=\"Convert this dataframe to an interactive table.\"\n",
              "            style=\"display:none;\">\n",
              "\n",
              "  <svg xmlns=\"http://www.w3.org/2000/svg\" height=\"24px\" viewBox=\"0 -960 960 960\">\n",
              "    <path d=\"M120-120v-720h720v720H120Zm60-500h600v-160H180v160Zm220 220h160v-160H400v160Zm0 220h160v-160H400v160ZM180-400h160v-160H180v160Zm440 0h160v-160H620v160ZM180-180h160v-160H180v160Zm440 0h160v-160H620v160Z\"/>\n",
              "  </svg>\n",
              "    </button>\n",
              "\n",
              "  <style>\n",
              "    .colab-df-container {\n",
              "      display:flex;\n",
              "      gap: 12px;\n",
              "    }\n",
              "\n",
              "    .colab-df-convert {\n",
              "      background-color: #E8F0FE;\n",
              "      border: none;\n",
              "      border-radius: 50%;\n",
              "      cursor: pointer;\n",
              "      display: none;\n",
              "      fill: #1967D2;\n",
              "      height: 32px;\n",
              "      padding: 0 0 0 0;\n",
              "      width: 32px;\n",
              "    }\n",
              "\n",
              "    .colab-df-convert:hover {\n",
              "      background-color: #E2EBFA;\n",
              "      box-shadow: 0px 1px 2px rgba(60, 64, 67, 0.3), 0px 1px 3px 1px rgba(60, 64, 67, 0.15);\n",
              "      fill: #174EA6;\n",
              "    }\n",
              "\n",
              "    .colab-df-buttons div {\n",
              "      margin-bottom: 4px;\n",
              "    }\n",
              "\n",
              "    [theme=dark] .colab-df-convert {\n",
              "      background-color: #3B4455;\n",
              "      fill: #D2E3FC;\n",
              "    }\n",
              "\n",
              "    [theme=dark] .colab-df-convert:hover {\n",
              "      background-color: #434B5C;\n",
              "      box-shadow: 0px 1px 3px 1px rgba(0, 0, 0, 0.15);\n",
              "      filter: drop-shadow(0px 1px 2px rgba(0, 0, 0, 0.3));\n",
              "      fill: #FFFFFF;\n",
              "    }\n",
              "  </style>\n",
              "\n",
              "    <script>\n",
              "      const buttonEl =\n",
              "        document.querySelector('#df-db458037-5621-4e33-bde1-7eaecec01df1 button.colab-df-convert');\n",
              "      buttonEl.style.display =\n",
              "        google.colab.kernel.accessAllowed ? 'block' : 'none';\n",
              "\n",
              "      async function convertToInteractive(key) {\n",
              "        const element = document.querySelector('#df-db458037-5621-4e33-bde1-7eaecec01df1');\n",
              "        const dataTable =\n",
              "          await google.colab.kernel.invokeFunction('convertToInteractive',\n",
              "                                                    [key], {});\n",
              "        if (!dataTable) return;\n",
              "\n",
              "        const docLinkHtml = 'Like what you see? Visit the ' +\n",
              "          '<a target=\"_blank\" href=https://colab.research.google.com/notebooks/data_table.ipynb>data table notebook</a>'\n",
              "          + ' to learn more about interactive tables.';\n",
              "        element.innerHTML = '';\n",
              "        dataTable['output_type'] = 'display_data';\n",
              "        await google.colab.output.renderOutput(dataTable, element);\n",
              "        const docLink = document.createElement('div');\n",
              "        docLink.innerHTML = docLinkHtml;\n",
              "        element.appendChild(docLink);\n",
              "      }\n",
              "    </script>\n",
              "  </div>\n",
              "\n",
              "\n",
              "    <div id=\"df-94ee2ee8-4932-4454-9556-fa6f748d8d8b\">\n",
              "      <button class=\"colab-df-quickchart\" onclick=\"quickchart('df-94ee2ee8-4932-4454-9556-fa6f748d8d8b')\"\n",
              "                title=\"Suggest charts\"\n",
              "                style=\"display:none;\">\n",
              "\n",
              "<svg xmlns=\"http://www.w3.org/2000/svg\" height=\"24px\"viewBox=\"0 0 24 24\"\n",
              "     width=\"24px\">\n",
              "    <g>\n",
              "        <path d=\"M19 3H5c-1.1 0-2 .9-2 2v14c0 1.1.9 2 2 2h14c1.1 0 2-.9 2-2V5c0-1.1-.9-2-2-2zM9 17H7v-7h2v7zm4 0h-2V7h2v10zm4 0h-2v-4h2v4z\"/>\n",
              "    </g>\n",
              "</svg>\n",
              "      </button>\n",
              "\n",
              "<style>\n",
              "  .colab-df-quickchart {\n",
              "      --bg-color: #E8F0FE;\n",
              "      --fill-color: #1967D2;\n",
              "      --hover-bg-color: #E2EBFA;\n",
              "      --hover-fill-color: #174EA6;\n",
              "      --disabled-fill-color: #AAA;\n",
              "      --disabled-bg-color: #DDD;\n",
              "  }\n",
              "\n",
              "  [theme=dark] .colab-df-quickchart {\n",
              "      --bg-color: #3B4455;\n",
              "      --fill-color: #D2E3FC;\n",
              "      --hover-bg-color: #434B5C;\n",
              "      --hover-fill-color: #FFFFFF;\n",
              "      --disabled-bg-color: #3B4455;\n",
              "      --disabled-fill-color: #666;\n",
              "  }\n",
              "\n",
              "  .colab-df-quickchart {\n",
              "    background-color: var(--bg-color);\n",
              "    border: none;\n",
              "    border-radius: 50%;\n",
              "    cursor: pointer;\n",
              "    display: none;\n",
              "    fill: var(--fill-color);\n",
              "    height: 32px;\n",
              "    padding: 0;\n",
              "    width: 32px;\n",
              "  }\n",
              "\n",
              "  .colab-df-quickchart:hover {\n",
              "    background-color: var(--hover-bg-color);\n",
              "    box-shadow: 0 1px 2px rgba(60, 64, 67, 0.3), 0 1px 3px 1px rgba(60, 64, 67, 0.15);\n",
              "    fill: var(--button-hover-fill-color);\n",
              "  }\n",
              "\n",
              "  .colab-df-quickchart-complete:disabled,\n",
              "  .colab-df-quickchart-complete:disabled:hover {\n",
              "    background-color: var(--disabled-bg-color);\n",
              "    fill: var(--disabled-fill-color);\n",
              "    box-shadow: none;\n",
              "  }\n",
              "\n",
              "  .colab-df-spinner {\n",
              "    border: 2px solid var(--fill-color);\n",
              "    border-color: transparent;\n",
              "    border-bottom-color: var(--fill-color);\n",
              "    animation:\n",
              "      spin 1s steps(1) infinite;\n",
              "  }\n",
              "\n",
              "  @keyframes spin {\n",
              "    0% {\n",
              "      border-color: transparent;\n",
              "      border-bottom-color: var(--fill-color);\n",
              "      border-left-color: var(--fill-color);\n",
              "    }\n",
              "    20% {\n",
              "      border-color: transparent;\n",
              "      border-left-color: var(--fill-color);\n",
              "      border-top-color: var(--fill-color);\n",
              "    }\n",
              "    30% {\n",
              "      border-color: transparent;\n",
              "      border-left-color: var(--fill-color);\n",
              "      border-top-color: var(--fill-color);\n",
              "      border-right-color: var(--fill-color);\n",
              "    }\n",
              "    40% {\n",
              "      border-color: transparent;\n",
              "      border-right-color: var(--fill-color);\n",
              "      border-top-color: var(--fill-color);\n",
              "    }\n",
              "    60% {\n",
              "      border-color: transparent;\n",
              "      border-right-color: var(--fill-color);\n",
              "    }\n",
              "    80% {\n",
              "      border-color: transparent;\n",
              "      border-right-color: var(--fill-color);\n",
              "      border-bottom-color: var(--fill-color);\n",
              "    }\n",
              "    90% {\n",
              "      border-color: transparent;\n",
              "      border-bottom-color: var(--fill-color);\n",
              "    }\n",
              "  }\n",
              "</style>\n",
              "\n",
              "      <script>\n",
              "        async function quickchart(key) {\n",
              "          const quickchartButtonEl =\n",
              "            document.querySelector('#' + key + ' button');\n",
              "          quickchartButtonEl.disabled = true;  // To prevent multiple clicks.\n",
              "          quickchartButtonEl.classList.add('colab-df-spinner');\n",
              "          try {\n",
              "            const charts = await google.colab.kernel.invokeFunction(\n",
              "                'suggestCharts', [key], {});\n",
              "          } catch (error) {\n",
              "            console.error('Error during call to suggestCharts:', error);\n",
              "          }\n",
              "          quickchartButtonEl.classList.remove('colab-df-spinner');\n",
              "          quickchartButtonEl.classList.add('colab-df-quickchart-complete');\n",
              "        }\n",
              "        (() => {\n",
              "          let quickchartButtonEl =\n",
              "            document.querySelector('#df-94ee2ee8-4932-4454-9556-fa6f748d8d8b button');\n",
              "          quickchartButtonEl.style.display =\n",
              "            google.colab.kernel.accessAllowed ? 'block' : 'none';\n",
              "        })();\n",
              "      </script>\n",
              "    </div>\n",
              "\n",
              "  <div id=\"id_f36b2082-1077-435c-abef-b913a686305b\">\n",
              "    <style>\n",
              "      .colab-df-generate {\n",
              "        background-color: #E8F0FE;\n",
              "        border: none;\n",
              "        border-radius: 50%;\n",
              "        cursor: pointer;\n",
              "        display: none;\n",
              "        fill: #1967D2;\n",
              "        height: 32px;\n",
              "        padding: 0 0 0 0;\n",
              "        width: 32px;\n",
              "      }\n",
              "\n",
              "      .colab-df-generate:hover {\n",
              "        background-color: #E2EBFA;\n",
              "        box-shadow: 0px 1px 2px rgba(60, 64, 67, 0.3), 0px 1px 3px 1px rgba(60, 64, 67, 0.15);\n",
              "        fill: #174EA6;\n",
              "      }\n",
              "\n",
              "      [theme=dark] .colab-df-generate {\n",
              "        background-color: #3B4455;\n",
              "        fill: #D2E3FC;\n",
              "      }\n",
              "\n",
              "      [theme=dark] .colab-df-generate:hover {\n",
              "        background-color: #434B5C;\n",
              "        box-shadow: 0px 1px 3px 1px rgba(0, 0, 0, 0.15);\n",
              "        filter: drop-shadow(0px 1px 2px rgba(0, 0, 0, 0.3));\n",
              "        fill: #FFFFFF;\n",
              "      }\n",
              "    </style>\n",
              "    <button class=\"colab-df-generate\" onclick=\"generateWithVariable('result_df')\"\n",
              "            title=\"Generate code using this dataframe.\"\n",
              "            style=\"display:none;\">\n",
              "\n",
              "  <svg xmlns=\"http://www.w3.org/2000/svg\" height=\"24px\"viewBox=\"0 0 24 24\"\n",
              "       width=\"24px\">\n",
              "    <path d=\"M7,19H8.4L18.45,9,17,7.55,7,17.6ZM5,21V16.75L18.45,3.32a2,2,0,0,1,2.83,0l1.4,1.43a1.91,1.91,0,0,1,.58,1.4,1.91,1.91,0,0,1-.58,1.4L9.25,21ZM18.45,9,17,7.55Zm-12,3A5.31,5.31,0,0,0,4.9,8.1,5.31,5.31,0,0,0,1,6.5,5.31,5.31,0,0,0,4.9,4.9,5.31,5.31,0,0,0,6.5,1,5.31,5.31,0,0,0,8.1,4.9,5.31,5.31,0,0,0,12,6.5,5.46,5.46,0,0,0,6.5,12Z\"/>\n",
              "  </svg>\n",
              "    </button>\n",
              "    <script>\n",
              "      (() => {\n",
              "      const buttonEl =\n",
              "        document.querySelector('#id_f36b2082-1077-435c-abef-b913a686305b button.colab-df-generate');\n",
              "      buttonEl.style.display =\n",
              "        google.colab.kernel.accessAllowed ? 'block' : 'none';\n",
              "\n",
              "      buttonEl.onclick = () => {\n",
              "        google.colab.notebook.generateWithVariable('result_df');\n",
              "      }\n",
              "      })();\n",
              "    </script>\n",
              "  </div>\n",
              "\n",
              "    </div>\n",
              "  </div>\n"
            ],
            "application/vnd.google.colaboratory.intrinsic+json": {
              "type": "dataframe",
              "variable_name": "result_df",
              "summary": "{\n  \"name\": \"result_df\",\n  \"rows\": 5,\n  \"fields\": [\n    {\n      \"column\": \"Model\",\n      \"properties\": {\n        \"dtype\": \"string\",\n        \"num_unique_values\": 5,\n        \"samples\": [\n          \"SVM\",\n          \"Decision Tree\",\n          \"Logistic Regression\"\n        ],\n        \"semantic_type\": \"\",\n        \"description\": \"\"\n      }\n    },\n    {\n      \"column\": \"Accuracy\",\n      \"properties\": {\n        \"dtype\": \"number\",\n        \"std\": 0.039733106135606745,\n        \"min\": 0.8088235294117647,\n        \"max\": 0.9117647058823529,\n        \"num_unique_values\": 4,\n        \"samples\": [\n          0.8970588235294118,\n          0.8088235294117647,\n          0.9117647058823529\n        ],\n        \"semantic_type\": \"\",\n        \"description\": \"\"\n      }\n    }\n  ]\n}"
            }
          },
          "metadata": {},
          "execution_count": 18
        }
      ]
    },
    {
      "cell_type": "markdown",
      "source": [
        "5. evaluasi"
      ],
      "metadata": {
        "id": "lXNFhC_0s5I0"
      }
    },
    {
      "cell_type": "code",
      "source": [
        "from sklearn.metrics import classification_report, confusion_matrix, ConfusionMatrixDisplay\n",
        "import matplotlib.pyplot as plt\n",
        "import seaborn as sns\n"
      ],
      "metadata": {
        "id": "Kh5WPIw8tHN4"
      },
      "execution_count": 19,
      "outputs": []
    },
    {
      "cell_type": "markdown",
      "source": [
        "A. evaluasi detail setiap model"
      ],
      "metadata": {
        "id": "7ugKw0MStL4c"
      }
    },
    {
      "cell_type": "code",
      "source": [
        "# Loop untuk evaluasi masing-masing model\n",
        "for name, model in models.items():\n",
        "    y_pred = model.predict(X_test)\n",
        "\n",
        "    print(f\"\\n📌 Evaluasi Model: {name}\")\n",
        "    print(\"Classification Report:\")\n",
        "    # Get the unique classes present in the test set\n",
        "    unique_classes_test = np.unique(y_test)\n",
        "    # Get the corresponding class names from the label encoder\n",
        "    target_names_test = le.inverse_transform(unique_classes_test)\n",
        "    print(classification_report(y_test, y_pred, target_names=target_names_test, labels=unique_classes_test))\n",
        "\n",
        "    # Confusion Matrix\n",
        "    cm = confusion_matrix(y_test, y_pred, labels=unique_classes_test)\n",
        "    disp = ConfusionMatrixDisplay(confusion_matrix=cm, display_labels=target_names_test)\n",
        "\n",
        "    # Visualisasi\n",
        "    plt.figure(figsize=(8,6)) # Adjusted figure size for better readability\n",
        "    disp.plot(cmap=\"Blues\", values_format=\"d\")\n",
        "    plt.title(f\"Confusion Matrix - {name}\")\n",
        "    plt.show()"
      ],
      "metadata": {
        "colab": {
          "base_uri": "https://localhost:8080/",
          "height": 1000
        },
        "id": "BoVaRaIntSN4",
        "outputId": "e12ace66-19ba-453c-cf7e-50fe1a5e8377"
      },
      "execution_count": 21,
      "outputs": [
        {
          "output_type": "stream",
          "name": "stdout",
          "text": [
            "\n",
            "📌 Evaluasi Model: Logistic Regression\n",
            "Classification Report:\n",
            "              precision    recall  f1-score   support\n",
            "\n",
            "          cp       0.91      1.00      0.95        29\n",
            "          im       0.86      0.75      0.80        16\n",
            "         imU       0.62      0.71      0.67         7\n",
            "          om       1.00      1.00      1.00         4\n",
            "         omL       1.00      1.00      1.00         1\n",
            "          pp       1.00      0.82      0.90        11\n",
            "\n",
            "    accuracy                           0.88        68\n",
            "   macro avg       0.90      0.88      0.89        68\n",
            "weighted avg       0.89      0.88      0.88        68\n",
            "\n"
          ]
        },
        {
          "output_type": "display_data",
          "data": {
            "text/plain": [
              "<Figure size 800x600 with 0 Axes>"
            ]
          },
          "metadata": {}
        },
        {
          "output_type": "display_data",
          "data": {
            "text/plain": [
              "<Figure size 640x480 with 2 Axes>"
            ],
            "image/png": "[encoded data removed]"
          },
          "metadata": {}
        },
        {
          "output_type": "stream",
          "name": "stdout",
          "text": [
            "\n",
            "📌 Evaluasi Model: Decision Tree\n",
            "Classification Report:\n",
            "              precision    recall  f1-score   support\n",
            "\n",
            "          cp       0.96      0.93      0.95        29\n",
            "          im       0.77      0.62      0.69        16\n",
            "         imU       0.43      0.86      0.57         7\n",
            "          om       1.00      0.75      0.86         4\n",
            "         omL       0.00      0.00      0.00         1\n",
            "          pp       0.90      0.82      0.86        11\n",
            "\n",
            "    accuracy                           0.81        68\n",
            "   macro avg       0.68      0.66      0.65        68\n",
            "weighted avg       0.84      0.81      0.81        68\n",
            "\n"
          ]
        },
        {
          "output_type": "stream",
          "name": "stderr",
          "text": [
            "/usr/local/lib/python3.11/dist-packages/sklearn/metrics/_classification.py:1565: UndefinedMetricWarning: Precision is ill-defined and being set to 0.0 in labels with no predicted samples. Use `zero_division` parameter to control this behavior.\n",
            "  _warn_prf(average, modifier, f\"{metric.capitalize()} is\", len(result))\n",
            "/usr/local/lib/python3.11/dist-packages/sklearn/metrics/_classification.py:1565: UndefinedMetricWarning: Precision is ill-defined and being set to 0.0 in labels with no predicted samples. Use `zero_division` parameter to control this behavior.\n",
            "  _warn_prf(average, modifier, f\"{metric.capitalize()} is\", len(result))\n",
            "/usr/local/lib/python3.11/dist-packages/sklearn/metrics/_classification.py:1565: UndefinedMetricWarning: Precision is ill-defined and being set to 0.0 in labels with no predicted samples. Use `zero_division` parameter to control this behavior.\n",
            "  _warn_prf(average, modifier, f\"{metric.capitalize()} is\", len(result))\n"
          ]
        },
        {
          "output_type": "display_data",
          "data": {
            "text/plain": [
              "<Figure size 800x600 with 0 Axes>"
            ]
          },
          "metadata": {}
        },
        {
          "output_type": "display_data",
          "data": {
            "text/plain": [
              "<Figure size 640x480 with 2 Axes>"
            ],
            "image/png": "[encoded data removed]"
          },
          "metadata": {}
        },
        {
          "output_type": "stream",
          "name": "stdout",
          "text": [
            "\n",
            "📌 Evaluasi Model: K-Nearest Neighbors\n",
            "Classification Report:\n",
            "              precision    recall  f1-score   support\n",
            "\n",
            "          cp       0.97      1.00      0.98        29\n",
            "          im       0.92      0.69      0.79        16\n",
            "         imU       0.60      0.86      0.71         7\n",
            "          om       1.00      1.00      1.00         4\n",
            "         omL       1.00      1.00      1.00         1\n",
            "          pp       1.00      1.00      1.00        11\n",
            "\n",
            "    accuracy                           0.91        68\n",
            "   macro avg       0.91      0.92      0.91        68\n",
            "weighted avg       0.93      0.91      0.91        68\n",
            "\n"
          ]
        },
        {
          "output_type": "display_data",
          "data": {
            "text/plain": [
              "<Figure size 800x600 with 0 Axes>"
            ]
          },
          "metadata": {}
        },
        {
          "output_type": "display_data",
          "data": {
            "text/plain": [
              "<Figure size 640x480 with 2 Axes>"
            ],
            "image/png": "[encoded data removed]"
          },
          "metadata": {}
        },
        {
          "output_type": "stream",
          "name": "stdout",
          "text": [
            "\n",
            "📌 Evaluasi Model: SVM\n",
            "Classification Report:\n",
            "              precision    recall  f1-score   support\n",
            "\n",
            "          cp       0.97      1.00      0.98        29\n",
            "          im       0.91      0.62      0.74        16\n",
            "         imU       0.55      0.86      0.67         7\n",
            "          om       1.00      1.00      1.00         4\n",
            "         omL       1.00      1.00      1.00         1\n",
            "          pp       1.00      1.00      1.00        11\n",
            "\n",
            "    accuracy                           0.90        68\n",
            "   macro avg       0.90      0.91      0.90        68\n",
            "weighted avg       0.92      0.90      0.90        68\n",
            "\n"
          ]
        },
        {
          "output_type": "display_data",
          "data": {
            "text/plain": [
              "<Figure size 800x600 with 0 Axes>"
            ]
          },
          "metadata": {}
        },
        {
          "output_type": "display_data",
          "data": {
            "text/plain": [
              "<Figure size 640x480 with 2 Axes>"
            ],
            "image/png": "[encoded data removed]"
          },
          "metadata": {}
        },
        {
          "output_type": "stream",
          "name": "stdout",
          "text": [
            "\n",
            "📌 Evaluasi Model: Random Forest\n",
            "Classification Report:\n",
            "              precision    recall  f1-score   support\n",
            "\n",
            "          cp       0.97      1.00      0.98        29\n",
            "          im       0.91      0.62      0.74        16\n",
            "         imU       0.50      0.86      0.63         7\n",
            "          om       1.00      1.00      1.00         4\n",
            "         omL       1.00      1.00      1.00         1\n",
            "          pp       1.00      0.91      0.95        11\n",
            "\n",
            "    accuracy                           0.88        68\n",
            "   macro avg       0.90      0.90      0.88        68\n",
            "weighted avg       0.91      0.88      0.89        68\n",
            "\n"
          ]
        },
        {
          "output_type": "display_data",
          "data": {
            "text/plain": [
              "<Figure size 800x600 with 0 Axes>"
            ]
          },
          "metadata": {}
        },
        {
          "output_type": "display_data",
          "data": {
            "text/plain": [
              "<Figure size 640x480 with 2 Axes>"
            ],
            "image/png": "[encoded data removed]"
          },
          "metadata": {}
        }
      ]
    },
    {
      "cell_type": "markdown",
      "source": [
        "B. menentukan model terbaik berdasarkan akurasi"
      ],
      "metadata": {
        "id": "OWXZ0f6Ytk7l"
      }
    },
    {
      "cell_type": "code",
      "source": [
        "# Menentukan model terbaik\n",
        "best_model_name = result_df.iloc[0]['Model']\n",
        "best_model = models[best_model_name]\n",
        "\n",
        "print(f\" Model terbaik berdasarkan akurasi: {best_model_name}\")\n"
      ],
      "metadata": {
        "colab": {
          "base_uri": "https://localhost:8080/"
        },
        "id": "sCvgLJ96tsqG",
        "outputId": "9656f218-3cee-4eb3-dc6d-4feab40e32eb"
      },
      "execution_count": 22,
      "outputs": [
        {
          "output_type": "stream",
          "name": "stdout",
          "text": [
            " Model terbaik berdasarkan akurasi: K-Nearest Neighbors\n"
          ]
        }
      ]
    },
    {
      "cell_type": "markdown",
      "source": [
        "6. lanjut ke tahap deployment"
      ],
      "metadata": {
        "id": "lx6xm1OYt_Ih"
      }
    },
    {
      "cell_type": "markdown",
      "source": [
        "A. simpan model terbaik ke file.pkl"
      ],
      "metadata": {
        "id": "pNFXTS23uIYZ"
      }
    },
    {
      "cell_type": "code",
      "source": [
        "import pickle\n",
        "\n",
        "# Simpan model terbaik ke file\n",
        "with open(\"best_model.pkl\", \"wb\") as f:\n",
        "    pickle.dump(best_model, f)\n",
        "\n",
        "# Simpan LabelEncoder\n",
        "with open(\"label_encoder.pkl\", \"wb\") as f:\n",
        "    pickle.dump(le, f)\n",
        "\n",
        "# Simpan MinMaxScaler\n",
        "with open(\"scaler.pkl\", \"wb\") as f:\n",
        "    pickle.dump(scaler, f)\n",
        "\n",
        "print(\" Model, encoder, dan scaler berhasil disimpan.\")\n"
      ],
      "metadata": {
        "colab": {
          "base_uri": "https://localhost:8080/"
        },
        "id": "fWZGmNUuuDXU",
        "outputId": "95928ecb-5be5-4b86-b834-67e33505dee6"
      },
      "execution_count": 24,
      "outputs": [
        {
          "output_type": "stream",
          "name": "stdout",
          "text": [
            " Model, encoder, dan scaler berhasil disimpan.\n"
          ]
        }
      ]
    },
    {
      "cell_type": "markdown",
      "source": [
        "B. load kembali model dan prediksi data baru"
      ],
      "metadata": {
        "id": "kR4pu3uluWjq"
      }
    },
    {
      "cell_type": "code",
      "source": [
        "# Contoh data baru (sesuai urutan fitur: mcg, gvh, lip, chg, aac, alm1, alm2)\n",
        "#new_sample = [[0.48, 0.35, 0.48, 0.5, 0.55, 0.24, 0.33]]\n"
      ],
      "metadata": {
        "id": "ngGsjBE1uQXE"
      },
      "execution_count": 27,
      "outputs": []
    },
    {
      "cell_type": "markdown",
      "source": [],
      "metadata": {
        "id": "0BqOsKFsuikU"
      }
    },
    {
      "cell_type": "code",
      "source": [
        "# Load model dan tools\n",
        "with open(\"best_model.pkl\", \"rb\") as f:\n",
        "    loaded_model = pickle.load(f)\n",
        "\n",
        "with open(\"label_encoder.pkl\", \"rb\") as f:\n",
        "    loaded_le = pickle.load(f)\n",
        "\n",
        "with open(\"scaler.pkl\", \"rb\") as f:\n",
        "    loaded_scaler = pickle.load(f)\n",
        "\n",
        "# Preprocessing untuk data baru\n",
        "new_scaled = loaded_scaler.transform(new_sample)\n",
        "\n",
        "# Prediksi\n",
        "predicted_class = loaded_model.predict(new_scaled)\n",
        "predicted_label = loaded_le.inverse_transform(predicted_class)\n",
        "\n",
        "print(\"✅ Hasil prediksi kelas:\", predicted_label[0])\n"
      ],
      "metadata": {
        "colab": {
          "base_uri": "https://localhost:8080/"
        },
        "id": "0fXUkxxuuooE",
        "outputId": "9526d862-06a3-4d6f-9e36-492c4949e6d1"
      },
      "execution_count": 30,
      "outputs": [
        {
          "output_type": "stream",
          "name": "stdout",
          "text": [
            "✅ Hasil prediksi kelas: cp\n"
          ]
        },
        {
          "output_type": "stream",
          "name": "stderr",
          "text": [
            "/usr/local/lib/python3.11/dist-packages/sklearn/utils/validation.py:2739: UserWarning: X does not have valid feature names, but MinMaxScaler was fitted with feature names\n",
            "  warnings.warn(\n"
          ]
        }
      ]
    }
  ]
}